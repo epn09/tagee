{
  "nbformat": 4,
  "nbformat_minor": 0,
  "metadata": {
    "colab": {
      "name": "Python Notebook - TAGEE on Google Colab.ipynb",
      "provenance": [],
      "collapsed_sections": [],
      "authorship_tag": "ABX9TyO51ZWMvobLSO3z5o28+INF",
      "include_colab_link": true
    },
    "kernelspec": {
      "name": "python3",
      "display_name": "Python 3"
    },
    "language_info": {
      "name": "python"
    }
  },
  "cells": [
    {
      "cell_type": "markdown",
      "metadata": {
        "id": "view-in-github",
        "colab_type": "text"
      },
      "source": [
        "<a href=\"https://colab.research.google.com/github/zecojls/tagee/blob/master/tagee_google_colab.ipynb\" target=\"_parent\"><img src=\"https://colab.research.google.com/assets/colab-badge.svg\" alt=\"Open In Colab\"/></a>"
      ]
    },
    {
      "cell_type": "code",
      "execution_count": 13,
      "metadata": {
        "colab": {
          "base_uri": "https://localhost:8080/"
        },
        "id": "7NnKHaGdQSrX",
        "outputId": "4c17fdbb-c7f8-4c7c-a19c-0ac8946b83aa"
      },
      "outputs": [
        {
          "output_type": "stream",
          "name": "stdout",
          "text": [
            "Cloning into 'tagee'...\n",
            "remote: Enumerating objects: 53, done.\u001b[K\n",
            "remote: Counting objects: 100% (53/53), done.\u001b[K\n",
            "remote: Compressing objects: 100% (45/45), done.\u001b[K\n",
            "remote: Total 53 (delta 22), reused 25 (delta 5), pack-reused 0\u001b[K\n",
            "Unpacking objects: 100% (53/53), done.\n"
          ]
        }
      ],
      "source": [
        "!rm -rf tagee\n",
        "!git clone https://github.com/zecojls/tagee.git\n",
        "from tagee import TAGEE"
      ]
    },
    {
      "cell_type": "code",
      "source": [
        "import ee\n",
        "from IPython.display import Image\n",
        "ee.Authenticate()\n",
        "ee.Initialize()"
      ],
      "metadata": {
        "id": "TWEZZN3rQgwT"
      },
      "execution_count": null,
      "outputs": []
    },
    {
      "cell_type": "code",
      "source": [
        "srtm = ee.Image(\"USGS/SRTMGL1_003\")\n",
        "geom = ee.FeatureCollection(ee.Geometry.Rectangle(-111, 40, -110.9, 40.1))\n",
        "\n",
        "# smooth the DEM\n",
        "gaussianFilter = ee.Kernel.gaussian(\n",
        "  radius=3, sigma=2, units='pixels', normalize=True\n",
        ")\n",
        "srtmSmooth = srtm.convolve(gaussianFilter).resample(\"bilinear\")\n",
        "terrainMetrics = TAGEE.terrainAnalysis(srtmSmooth, geom.geometry())\n",
        "\n",
        "# define the reducer\n",
        "superReducer = ee.Reducer.median().combine(ee.Reducer.minMax(), \"\", True)\n",
        "\n",
        "reduction = terrainMetrics.reduceRegions(\n",
        "  geom,\n",
        "  superReducer\n",
        ")\n",
        "\n",
        "print(geom.getInfo())\n",
        "print(reduction.getInfo())"
      ],
      "metadata": {
        "colab": {
          "base_uri": "https://localhost:8080/"
        },
        "id": "ZiDAuct8Reji",
        "outputId": "9d38f583-3487-4525-8390-ebdbf483b887"
      },
      "execution_count": 15,
      "outputs": [
        {
          "output_type": "stream",
          "name": "stdout",
          "text": [
            "{'type': 'FeatureCollection', 'columns': {'system:index': 'String'}, 'features': [{'type': 'Feature', 'geometry': {'type': 'Polygon', 'coordinates': [[[-111, 40], [-110.9, 40], [-110.9, 40.1], [-111, 40.1], [-111, 40]]]}, 'id': '0', 'properties': {}}]}\n",
            "{'type': 'FeatureCollection', 'columns': {'Aspect_max': 'Float', 'Aspect_median': 'Float', 'Aspect_min': 'Float', 'Eastness_max': 'Float', 'Eastness_median': 'Float', 'Eastness_min': 'Float', 'Elevation_max': 'Float', 'Elevation_median': 'Float', 'Elevation_min': 'Float', 'GaussianCurvature_max': 'Float', 'GaussianCurvature_median': 'Float', 'GaussianCurvature_min': 'Float', 'Hillshade_max': 'Float', 'Hillshade_median': 'Float', 'Hillshade_min': 'Float', 'HorizontalCurvature_max': 'Float', 'HorizontalCurvature_median': 'Float', 'HorizontalCurvature_min': 'Float', 'MaximalCurvature_max': 'Float', 'MaximalCurvature_median': 'Float', 'MaximalCurvature_min': 'Float', 'MeanCurvature_max': 'Float', 'MeanCurvature_median': 'Float', 'MeanCurvature_min': 'Float', 'MinimalCurvature_max': 'Float', 'MinimalCurvature_median': 'Float', 'MinimalCurvature_min': 'Float', 'Northness_max': 'Float', 'Northness_median': 'Float', 'Northness_min': 'Float', 'ShapeIndex_max': 'Float', 'ShapeIndex_median': 'Float', 'ShapeIndex_min': 'Float', 'Slope_max': 'Float', 'Slope_median': 'Float', 'Slope_min': 'Float', 'VerticalCurvature_max': 'Float', 'VerticalCurvature_median': 'Float', 'VerticalCurvature_min': 'Float', 'system:index': 'String'}, 'features': [{'type': 'Feature', 'geometry': {'type': 'Polygon', 'coordinates': [[[-111, 40], [-110.9, 40], [-110.9, 40.1], [-111, 40.1], [-111, 40]]]}, 'id': '0', 'properties': {'Aspect_max': 359.9960441781227, 'Aspect_median': 164.96899796283407, 'Aspect_min': 0.0007079297294735116, 'Eastness_max': 0.9999999980646229, 'Eastness_median': 0.1366564495752819, 'Eastness_min': -0.9999999999989085, 'Elevation_max': 3144.9072257908715, 'Elevation_median': 2713.9829822921715, 'Elevation_min': 2315.3758391176502, 'GaussianCurvature_max': 2.279887571247209e-05, 'GaussianCurvature_median': -1.0461323411111755e-07, 'GaussianCurvature_min': -1.9667537935867844e-05, 'Hillshade_max': 0.9999999861889961, 'Hillshade_median': 0.9463104169673912, 'Hillshade_min': 0.5839811266963512, 'HorizontalCurvature_max': 0.008923651162292769, 'HorizontalCurvature_median': 6.130758017188612e-05, 'HorizontalCurvature_min': -0.00910953136652702, 'MaximalCurvature_max': 0.009032885290044321, 'MaximalCurvature_median': 0.0007017164213990093, 'MaximalCurvature_min': -0.0030693682841770637, 'MeanCurvature_max': 0.004930639590135374, 'MeanCurvature_median': 3.025729935645765e-05, 'MeanCurvature_min': -0.004866329295176652, 'MinimalCurvature_max': 0.0034312446880530242, 'MinimalCurvature_median': -0.0007018446521387288, 'MinimalCurvature_min': -0.009247088353718503, 'Northness_max': 0.9999999999236683, 'Northness_median': 0.16010875922983997, 'Northness_min': -0.9999999999776438, 'ShapeIndex_max': 198.4020771679061, 'ShapeIndex_median': 0.5900795296823779, 'ShapeIndex_min': -205.46003386525047, 'Slope_max': 54.350754123738206, 'Slope_median': 18.873363433793777, 'Slope_min': 0.08294322301640024, 'VerticalCurvature_max': 0.008013961119874126, 'VerticalCurvature_median': -3.09646157101395e-05, 'VerticalCurvature_min': -0.007548406860304613}}]}\n"
          ]
        }
      ]
    }
  ]
}